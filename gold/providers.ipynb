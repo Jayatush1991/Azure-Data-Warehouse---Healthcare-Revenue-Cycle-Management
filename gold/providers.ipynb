{
 "cells": [
  {
   "cell_type": "code",
   "execution_count": 0,
   "metadata": {
    "application/vnd.databricks.v1+cell": {
     "cellMetadata": {
      "byteLimit": 2048000,
      "implicitDf": true,
      "rowLimit": 10000
     },
     "inputWidgets": {},
     "nuid": "a6ad9df0-aefb-42aa-891d-48654198ffc2",
     "showTitle": false,
     "tableResultSettingsMap": {},
     "title": ""
    }
   },
   "outputs": [],
   "source": [
    "%sql\n",
    "--Databricks notebook source\n",
    "CREATE SCHEMA IF NOT EXISTS tt_hc_adb_ws.gold;\n",
    "CREATE TABLE IF NOT EXISTS tt_hc_adb_ws.gold.dim_provider\n",
    "(\n",
    "   ProviderID string,\n",
    "   FirstName string,\n",
    "   LastName string,\n",
    "   DeptID string,\n",
    "   NPI long,\n",
    "   datasource string\n",
    ");\n"
   ]
  },
  {
   "cell_type": "code",
   "execution_count": 0,
   "metadata": {
    "application/vnd.databricks.v1+cell": {
     "cellMetadata": {
      "byteLimit": 2048000,
      "implicitDf": true,
      "rowLimit": 10000
     },
     "inputWidgets": {},
     "nuid": "7b396fac-40dc-46d3-ab24-dbbef1bd94d3",
     "showTitle": false,
     "tableResultSettingsMap": {},
     "title": ""
    }
   },
   "outputs": [],
   "source": [
    "  %sql \n",
    "   truncate TABLE gold.dim_provider"
   ]
  },
  {
   "cell_type": "code",
   "execution_count": 0,
   "metadata": {
    "application/vnd.databricks.v1+cell": {
     "cellMetadata": {
      "byteLimit": 2048000,
      "implicitDf": true,
      "rowLimit": 10000
     },
     "inputWidgets": {},
     "nuid": "b96b0e3a-d57e-4236-a0e0-a932c125a7b4",
     "showTitle": false,
     "tableResultSettingsMap": {},
     "title": ""
    }
   },
   "outputs": [],
   "source": [
    "%sql\n",
    "   insert into gold.dim_provider\n",
    "   select \n",
    "   ProviderID ,\n",
    "   FirstName ,\n",
    "   LastName ,\n",
    "   concat(DeptID,'-',datasource) deptid,\n",
    "   NPI ,\n",
    "   datasource \n",
    "    from silver.providers\n",
    "    where is_quarantined=false"
   ]
  }
 ],
 "metadata": {
  "application/vnd.databricks.v1+notebook": {
   "computePreferences": null,
   "dashboards": [],
   "environmentMetadata": {
    "base_environment": "",
    "client": "1"
   },
   "language": "python",
   "notebookMetadata": {
    "mostRecentlyExecutedCommandWithImplicitDF": {
     "commandId": 7861138822861402,
     "dataframes": [
      "_sqldf"
     ]
    },
    "pythonIndentUnit": 4
   },
   "notebookName": "providers",
   "widgets": {}
  },
  "language_info": {
   "name": "python"
  }
 },
 "nbformat": 4,
 "nbformat_minor": 0
}
