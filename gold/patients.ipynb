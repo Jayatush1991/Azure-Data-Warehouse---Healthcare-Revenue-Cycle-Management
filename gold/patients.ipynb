{
 "cells": [
  {
   "cell_type": "code",
   "execution_count": 0,
   "metadata": {
    "application/vnd.databricks.v1+cell": {
     "cellMetadata": {
      "byteLimit": 2048000,
      "implicitDf": true,
      "rowLimit": 10000
     },
     "inputWidgets": {},
     "nuid": "016e1083-41dc-4523-8544-d7c15e5974c6",
     "showTitle": false,
     "tableResultSettingsMap": {},
     "title": ""
    }
   },
   "outputs": [],
   "source": [
    "%sql\n",
    "--Databricks notebook source\n",
    "CREATE TABLE IF NOT EXISTS gold.dim_patient\n",
    "   (\n",
    "       patient_key STRING,\n",
    "       src_patientid STRING,\n",
    "       firstname STRING,\n",
    "       lastname STRING,\n",
    "       middlename STRING,\n",
    "       ssn STRING,\n",
    "       phonenumber STRING,\n",
    "       gender STRING,\n",
    "       dob DATE,\n",
    "       address STRING,\n",
    "       datasource STRING\n",
    "   )"
   ]
  },
  {
   "cell_type": "code",
   "execution_count": 0,
   "metadata": {
    "application/vnd.databricks.v1+cell": {
     "cellMetadata": {
      "byteLimit": 2048000,
      "implicitDf": true,
      "rowLimit": 10000
     },
     "inputWidgets": {},
     "nuid": "3339a4eb-94e6-4978-8cf7-caa17fb0095a",
     "showTitle": false,
     "tableResultSettingsMap": {},
     "title": ""
    }
   },
   "outputs": [],
   "source": [
    "%sql \n",
    "truncate TABLE gold.dim_patient "
   ]
  },
  {
   "cell_type": "code",
   "execution_count": 0,
   "metadata": {
    "application/vnd.databricks.v1+cell": {
     "cellMetadata": {
      "byteLimit": 2048000,
      "implicitDf": true,
      "rowLimit": 10000
     },
     "inputWidgets": {},
     "nuid": "bf944797-e215-4767-a6e3-98c2f78fc1ce",
     "showTitle": false,
     "tableResultSettingsMap": {},
     "title": ""
    }
   },
   "outputs": [],
   "source": [
    "%sql\n",
    "   insert into gold.dim_patient\n",
    "   select \n",
    "       patient_key ,\n",
    "       src_patientid ,\n",
    "       firstname ,\n",
    "       lastname ,\n",
    "       middlename ,\n",
    "       ssn ,\n",
    "       phonenumber ,\n",
    "       gender ,\n",
    "       dob ,\n",
    "       address ,\n",
    "       datasource \n",
    "    from silver.patients\n",
    "    where is_current=true and is_quarantined=false"
   ]
  }
 ],
 "metadata": {
  "application/vnd.databricks.v1+notebook": {
   "computePreferences": null,
   "dashboards": [],
   "environmentMetadata": {
    "base_environment": "",
    "client": "1"
   },
   "language": "python",
   "notebookMetadata": {
    "mostRecentlyExecutedCommandWithImplicitDF": {
     "commandId": 7861138822861417,
     "dataframes": [
      "_sqldf"
     ]
    },
    "pythonIndentUnit": 4
   },
   "notebookName": "patients",
   "widgets": {}
  },
  "language_info": {
   "name": "python"
  }
 },
 "nbformat": 4,
 "nbformat_minor": 0
}
