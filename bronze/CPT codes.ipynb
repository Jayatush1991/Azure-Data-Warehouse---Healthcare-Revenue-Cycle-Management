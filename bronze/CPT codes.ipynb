{
 "cells": [
  {
   "cell_type": "code",
   "execution_count": 0,
   "metadata": {
    "application/vnd.databricks.v1+cell": {
     "cellMetadata": {
      "byteLimit": 2048000,
      "rowLimit": 10000
     },
     "inputWidgets": {},
     "nuid": "a60824fe-d338-4ef6-b237-9557f9e641a6",
     "showTitle": false,
     "tableResultSettingsMap": {},
     "title": ""
    }
   },
   "outputs": [],
   "source": [
    "# Databricks notebook source\n",
    "from pyspark.sql import SparkSession, functions as f\n",
    "\n",
    "# Read the CSV file\n",
    "cptcodes_df = spark.read.csv(\"/mnt/landing/cptcodes/*.csv\", header=True)\n",
    "\n",
    "# Replace whitespaces in column names with underscores and convert to lowercase\n",
    "for col in cptcodes_df.columns:\n",
    "    new_col = col.replace(\" \", \"_\").lower()\n",
    "    cptcodes_df = cptcodes_df.withColumnRenamed(col, new_col)\n",
    "cptcodes_df.createOrReplaceTempView(\"cptcodes\")\n",
    "display(cptcodes_df)\n",
    "\n",
    "# COMMAND ----------\n",
    "\n",
    "# DBTITLE 1,Parquet file creation\n",
    "cptcodes_df.write.format(\"parquet\").mode(\"overwrite\").save(\"/mnt/bronze/cpt_codes\")"
   ]
  }
 ],
 "metadata": {
  "application/vnd.databricks.v1+notebook": {
   "computePreferences": null,
   "dashboards": [],
   "environmentMetadata": {
    "base_environment": "",
    "client": "1"
   },
   "language": "python",
   "notebookMetadata": {
    "pythonIndentUnit": 4
   },
   "notebookName": "CPT codes",
   "widgets": {}
  },
  "language_info": {
   "name": "python"
  }
 },
 "nbformat": 4,
 "nbformat_minor": 0
}
