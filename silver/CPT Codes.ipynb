{
 "cells": [
  {
   "cell_type": "code",
   "execution_count": 0,
   "metadata": {
    "application/vnd.databricks.v1+cell": {
     "cellMetadata": {
      "byteLimit": 2048000,
      "implicitDf": true,
      "rowLimit": 10000
     },
     "inputWidgets": {},
     "nuid": "9bf1fa4b-3b2e-45eb-9a7e-6a0b664e9bb5",
     "showTitle": false,
     "tableResultSettingsMap": {},
     "title": ""
    }
   },
   "outputs": [],
   "source": [
    " %sql\n",
    "      select * from cptcodes;"
   ]
  },
  {
   "cell_type": "code",
   "execution_count": 0,
   "metadata": {
    "application/vnd.databricks.v1+cell": {
     "cellMetadata": {
      "byteLimit": 2048000,
      "implicitDf": true,
      "rowLimit": 10000
     },
     "inputWidgets": {},
     "nuid": "275b1ab8-9b0f-4651-a64a-1423ef692b8a",
     "showTitle": false,
     "tableResultSettingsMap": {},
     "title": ""
    }
   },
   "outputs": [],
   "source": [
    "%sql\n",
    "      CREATE OR REPLACE TEMP VIEW quality_checks AS\n",
    "      SELECT \n",
    "       cpt_codes,\n",
    "       procedure_code_category,\n",
    "       procedure_code_descriptions,\n",
    "       code_status,\n",
    "          CASE \n",
    "              WHEN cpt_codes IS NULL OR procedure_code_descriptions IS NULL  THEN TRUE\n",
    "              ELSE FALSE\n",
    "          END AS is_quarantined\n",
    "      FROM cptcodes"
   ]
  },
  {
   "cell_type": "code",
   "execution_count": 0,
   "metadata": {
    "application/vnd.databricks.v1+cell": {
     "cellMetadata": {
      "byteLimit": 2048000,
      "implicitDf": true,
      "rowLimit": 10000
     },
     "inputWidgets": {},
     "nuid": "6ca5a089-e1f4-4484-a084-d7a7a9ae378c",
     "showTitle": false,
     "tableResultSettingsMap": {},
     "title": ""
    }
   },
   "outputs": [],
   "source": [
    " %sql\n",
    "      CREATE TABLE IF NOT EXISTS silver.cptcodes (\n",
    "      cpt_codes string,\n",
    "      procedure_code_category string,\n",
    "      procedure_code_descriptions string,\n",
    "      code_status string,\n",
    "      is_quarantined boolean,\n",
    "      audit_insertdate timestamp,\n",
    "      audit_modifieddate timestamp,\n",
    "      is_current boolean\n",
    "      )\n",
    "      USING DELTA;"
   ]
  },
  {
   "cell_type": "code",
   "execution_count": 0,
   "metadata": {
    "application/vnd.databricks.v1+cell": {
     "cellMetadata": {
      "byteLimit": 2048000,
      "implicitDf": true,
      "rowLimit": 10000
     },
     "inputWidgets": {},
     "nuid": "78f1b295-5ed6-4261-b87e-bb5b56333a6f",
     "showTitle": false,
     "tableResultSettingsMap": {},
     "title": ""
    }
   },
   "outputs": [],
   "source": [
    "  %sql\n",
    "      -- Update old record to implement SCD Type 2\n",
    "      MERGE INTO silver.cptcodes AS target\n",
    "      USING quality_checks AS source\n",
    "      ON target.cpt_codes = source.cpt_codes AND target.is_current = true\n",
    "      WHEN MATCHED AND (\n",
    "          target.procedure_code_category != source.procedure_code_category OR\n",
    "          target.procedure_code_descriptions != source.procedure_code_descriptions OR\n",
    "          target.code_status != source.code_status OR\n",
    "          target.is_quarantined != source.is_quarantined\n",
    "      ) THEN\n",
    "        UPDATE SET\n",
    "          target.is_current = false,\n",
    "          target.audit_modifieddate = current_timestamp()"
   ]
  },
  {
   "cell_type": "code",
   "execution_count": 0,
   "metadata": {
    "application/vnd.databricks.v1+cell": {
     "cellMetadata": {
      "byteLimit": 2048000,
      "implicitDf": true,
      "rowLimit": 10000
     },
     "inputWidgets": {},
     "nuid": "cfb05a2e-a362-48b0-9d82-c6c9617a67d2",
     "showTitle": false,
     "tableResultSettingsMap": {},
     "title": ""
    }
   },
   "outputs": [],
   "source": [
    "%sql\n",
    "      -- Insert new record to implement SCD Type 2\n",
    "      MERGE INTO silver.cptcodes AS target\n",
    "      USING quality_checks AS source\n",
    "      ON target.cpt_codes = source.cpt_codes AND target.is_current = true\n",
    "      WHEN NOT MATCHED THEN\n",
    "        INSERT (\n",
    "          cpt_codes,\n",
    "          procedure_code_category,\n",
    "          procedure_code_descriptions,\n",
    "          code_status,\n",
    "          is_quarantined,\n",
    "          audit_insertdate,\n",
    "          audit_modifieddate,\n",
    "          is_current\n",
    "        )\n",
    "        VALUES (\n",
    "          source.cpt_codes,\n",
    "          source.procedure_code_category,\n",
    "          source.procedure_code_descriptions,\n",
    "          source.code_status,\n",
    "          source.is_quarantined,\n",
    "          current_timestamp(),\n",
    "          current_timestamp(),\n",
    "          true\n",
    "        );"
   ]
  },
  {
   "cell_type": "code",
   "execution_count": 0,
   "metadata": {
    "application/vnd.databricks.v1+cell": {
     "cellMetadata": {
      "byteLimit": 2048000,
      "implicitDf": true,
      "rowLimit": 10000
     },
     "inputWidgets": {},
     "nuid": "1200789b-874c-4bad-8816-c02e410b0a2e",
     "showTitle": false,
     "tableResultSettingsMap": {},
     "title": ""
    }
   },
   "outputs": [],
   "source": [
    "%sql\n",
    "select * from  silver.cptcodes"
   ]
  }
 ],
 "metadata": {
  "application/vnd.databricks.v1+notebook": {
   "computePreferences": null,
   "dashboards": [],
   "environmentMetadata": {
    "base_environment": "",
    "client": "1"
   },
   "language": "python",
   "notebookMetadata": {
    "mostRecentlyExecutedCommandWithImplicitDF": {
     "commandId": 5699581996422373,
     "dataframes": [
      "_sqldf"
     ]
    },
    "pythonIndentUnit": 4
   },
   "notebookName": "CPT Codes",
   "widgets": {}
  },
  "language_info": {
   "name": "python"
  }
 },
 "nbformat": 4,
 "nbformat_minor": 0
}
