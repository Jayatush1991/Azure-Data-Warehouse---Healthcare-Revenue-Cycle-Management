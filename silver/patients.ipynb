{
 "cells": [
  {
   "cell_type": "code",
   "execution_count": 0,
   "metadata": {
    "application/vnd.databricks.v1+cell": {
     "cellMetadata": {
      "byteLimit": 2048000,
      "rowLimit": 10000
     },
     "inputWidgets": {},
     "nuid": "b099e69b-d424-4dfa-98ed-61e82dce443d",
     "showTitle": false,
     "tableResultSettingsMap": {},
     "title": ""
    }
   },
   "outputs": [],
   "source": [
    "# Databricks notebook source\n",
    "#Reading Hospital A patient data \n",
    "df_hosa=spark.read.parquet(\"/mnt/bronze/hosa/patients\")\n",
    "df_hosa.createOrReplaceTempView(\"patients_hosa\")\n",
    "\n",
    "#Reading Hospital B patient data \n",
    "df_hosb=spark.read.parquet(\"/mnt/bronze/hosb/patients\")\n",
    "df_hosb.createOrReplaceTempView(\"patients_hosb\")\n"
   ]
  },
  {
   "cell_type": "code",
   "execution_count": 0,
   "metadata": {
    "application/vnd.databricks.v1+cell": {
     "cellMetadata": {
      "byteLimit": 2048000,
      "implicitDf": true,
      "rowLimit": 10000
     },
     "inputWidgets": {},
     "nuid": "200ea95f-4168-4b4e-b59b-250d9c9e3af4",
     "showTitle": false,
     "tableResultSettingsMap": {},
     "title": ""
    }
   },
   "outputs": [],
   "source": [
    "\n",
    "%sql\n",
    "select * from patients_hosb;"
   ]
  },
  {
   "cell_type": "code",
   "execution_count": 0,
   "metadata": {
    "application/vnd.databricks.v1+cell": {
     "cellMetadata": {
      "byteLimit": 2048000,
      "implicitDf": true,
      "rowLimit": 10000
     },
     "inputWidgets": {},
     "nuid": "da6b98d5-78c2-4b03-b9ec-ab180b1a948f",
     "showTitle": false,
     "tableResultSettingsMap": {},
     "title": ""
    }
   },
   "outputs": [],
   "source": [
    " %sql\n",
    " CREATE OR REPLACE TEMP VIEW cdm_patients AS\n",
    " SELECT CONCAT(SRC_PatientID,'-', datasource) AS Patient_Key, *\n",
    " FROM (\n",
    "     SELECT \n",
    "     PatientID AS SRC_PatientID ,\n",
    "     FirstName,\n",
    "     LastName,\n",
    "     MiddleName,\n",
    "     SSN,\n",
    "     PhoneNumber,\n",
    "     Gender,\n",
    "     DOB,\n",
    "     Address,\n",
    "     ModifiedDate,\n",
    "     datasource\n",
    "     FROM patients_hosa\n",
    "     UNION ALL\n",
    "     SELECT \n",
    "     ID AS SRC_PatientID,\n",
    "     F_Name AS FirstName,\n",
    "     L_Name AS LastName,\n",
    "     M_Name ASMiddleName,\n",
    "     SSN,\n",
    "     PhoneNumber,\n",
    "     Gender,\n",
    "     DOB,\n",
    "     Address,\n",
    "     Updated_Date AS ModifiedDate,\n",
    "     datasource\n",
    "      FROM patients_hosb\n",
    " )"
   ]
  },
  {
   "cell_type": "code",
   "execution_count": 0,
   "metadata": {
    "application/vnd.databricks.v1+cell": {
     "cellMetadata": {
      "byteLimit": 2048000,
      "implicitDf": true,
      "rowLimit": 10000
     },
     "inputWidgets": {},
     "nuid": "cde4ebdc-5c50-45a1-991f-71860977642a",
     "showTitle": false,
     "tableResultSettingsMap": {},
     "title": ""
    }
   },
   "outputs": [],
   "source": [
    " %sql\n",
    " select * from cdm_patients"
   ]
  },
  {
   "cell_type": "code",
   "execution_count": 0,
   "metadata": {
    "application/vnd.databricks.v1+cell": {
     "cellMetadata": {
      "byteLimit": 2048000,
      "implicitDf": true,
      "rowLimit": 10000
     },
     "inputWidgets": {},
     "nuid": "0a4a56e3-63ef-4962-b0da-00560015b9b8",
     "showTitle": false,
     "tableResultSettingsMap": {},
     "title": ""
    }
   },
   "outputs": [],
   "source": [
    "%sql\n",
    " CREATE OR REPLACE TEMP VIEW quality_checks AS\n",
    " SELECT \n",
    "     Patient_Key,\n",
    "     SRC_PatientID,\n",
    "     FirstName,\n",
    "     LastName,\n",
    "     MiddleName,\n",
    "     SSN,\n",
    "     PhoneNumber,\n",
    "     Gender,\n",
    "     DOB,\n",
    "     Address,\n",
    "     ModifiedDate As SRC_ModifiedDate,\n",
    "     datasource,\n",
    "     CASE \n",
    "         WHEN SRC_PatientID IS NULL OR dob IS NULL OR firstname IS NULL or lower(firstname)='null' THEN TRUE\n",
    "         ELSE FALSE\n",
    "     END AS is_quarantined\n",
    " FROM cdm_patients"
   ]
  },
  {
   "cell_type": "code",
   "execution_count": 0,
   "metadata": {
    "application/vnd.databricks.v1+cell": {
     "cellMetadata": {
      "byteLimit": 2048000,
      "implicitDf": true,
      "rowLimit": 10000
     },
     "inputWidgets": {},
     "nuid": "cddcf6ba-ee84-4bed-8bb2-00c84bda643b",
     "showTitle": false,
     "tableResultSettingsMap": {},
     "title": ""
    }
   },
   "outputs": [],
   "source": [
    " %sql\n",
    " select * from quality_checks\n",
    " order by is_quarantined desc"
   ]
  },
  {
   "cell_type": "code",
   "execution_count": 0,
   "metadata": {
    "application/vnd.databricks.v1+cell": {
     "cellMetadata": {
      "byteLimit": 2048000,
      "implicitDf": true,
      "rowLimit": 10000
     },
     "inputWidgets": {},
     "nuid": "0a404d8f-6249-4327-950c-41986132c43a",
     "showTitle": false,
     "tableResultSettingsMap": {},
     "title": ""
    }
   },
   "outputs": [],
   "source": [
    "%sql\n",
    " CREATE TABLE IF NOT EXISTS silver.patients (\n",
    "     Patient_Key STRING,\n",
    "     SRC_PatientID STRING,\n",
    "     FirstName STRING,\n",
    "     LastName STRING,\n",
    "     MiddleName STRING,\n",
    "     SSN STRING,\n",
    "     PhoneNumber STRING,\n",
    "     Gender STRING,\n",
    "     DOB DATE,\n",
    "     Address STRING,\n",
    "     SRC_ModifiedDate TIMESTAMP,\n",
    "     datasource STRING,\n",
    "     is_quarantined BOOLEAN,\n",
    "     inserted_date TIMESTAMP,\n",
    "     modified_date TIMESTAMP,\n",
    "     is_current BOOLEAN\n",
    " )\n",
    " USING DELTA;"
   ]
  },
  {
   "cell_type": "code",
   "execution_count": 0,
   "metadata": {
    "application/vnd.databricks.v1+cell": {
     "cellMetadata": {
      "byteLimit": 2048000,
      "implicitDf": true,
      "rowLimit": 10000
     },
     "inputWidgets": {},
     "nuid": "a61e1728-9ed0-4718-818f-d3ea1ddcf1bb",
     "showTitle": false,
     "tableResultSettingsMap": {},
     "title": ""
    }
   },
   "outputs": [],
   "source": [
    "\n",
    "%sql\n",
    "\n",
    "   MERGE INTO silver.patients AS target\n",
    "   USING quality_checks AS source\n",
    "   ON target.Patient_Key = source.Patient_Key\n",
    "   AND target.is_current = true \n",
    "   WHEN MATCHED\n",
    "   AND (\n",
    "       target.SRC_PatientID <> source.SRC_PatientID OR\n",
    "       target.FirstName <> source.FirstName OR\n",
    "       target.LastName <> source.LastName OR\n",
    "       target.MiddleName <> source.MiddleName OR\n",
    "       target.SSN <> source.SSN OR\n",
    "       target.PhoneNumber <> source.PhoneNumber OR\n",
    "       target.Gender <> source.Gender OR\n",
    "       target.DOB <> source.DOB OR\n",
    "       target.Address <> source.Address OR\n",
    "       target.SRC_ModifiedDate <> source.SRC_ModifiedDate OR\n",
    "       target.datasource <> source.datasource OR\n",
    "       target.is_quarantined <> source.is_quarantined\n",
    "   )\n",
    "   THEN UPDATE SET\n",
    "       target.is_current = false,\n",
    "       target.modified_date = current_timestamp()\n",
    "  \n",
    "  \n",
    "   WHEN NOT MATCHED\n",
    "   THEN INSERT (\n",
    "       Patient_Key,\n",
    "       SRC_PatientID,\n",
    "       FirstName,\n",
    "       LastName,\n",
    "       MiddleName,\n",
    "       SSN,\n",
    "       PhoneNumber,\n",
    "       Gender,\n",
    "       DOB,\n",
    "       Address,\n",
    "       SRC_ModifiedDate,\n",
    "       datasource,\n",
    "       is_quarantined,\n",
    "       inserted_date,\n",
    "       modified_date,\n",
    "       is_current\n",
    "   )\n",
    "   VALUES (\n",
    "       source.Patient_Key,\n",
    "       source.SRC_PatientID,\n",
    "       source.FirstName,\n",
    "       source.LastName,\n",
    "       source.MiddleName,\n",
    "       source.SSN,\n",
    "       source.PhoneNumber,\n",
    "       source.Gender,\n",
    "       source.DOB,\n",
    "       source.Address,\n",
    "       source.SRC_ModifiedDate,\n",
    "       source.datasource,\n",
    "       source.is_quarantined,\n",
    "       current_timestamp(), -- Set inserted_date to current timestamp\n",
    "       current_timestamp(), -- Set modified_date to current timestamp\n",
    "       true -- Mark as current\n",
    "   );\n"
   ]
  },
  {
   "cell_type": "code",
   "execution_count": 0,
   "metadata": {
    "application/vnd.databricks.v1+cell": {
     "cellMetadata": {
      "byteLimit": 2048000,
      "implicitDf": true,
      "rowLimit": 10000
     },
     "inputWidgets": {},
     "nuid": "d368b3df-2bd0-46a9-b384-9f395ed66393",
     "showTitle": false,
     "tableResultSettingsMap": {},
     "title": ""
    }
   },
   "outputs": [],
   "source": [
    "%sql\n",
    "   MERGE INTO silver.patients AS target\n",
    "   USING quality_checks AS source\n",
    "   ON target.Patient_Key = source.Patient_Key\n",
    "   AND target.is_current = true \n",
    "   -- Step 2: Insert new and updated records into the Delta table, marking them as current\n",
    "   WHEN NOT MATCHED\n",
    "   THEN INSERT (\n",
    "       Patient_Key,\n",
    "       SRC_PatientID,\n",
    "       FirstName,\n",
    "       LastName,\n",
    "       MiddleName,\n",
    "       SSN,\n",
    "       PhoneNumber,\n",
    "       Gender,\n",
    "       DOB,\n",
    "       Address,\n",
    "       SRC_ModifiedDate,\n",
    "       datasource,\n",
    "       is_quarantined,\n",
    "       inserted_date,\n",
    "       modified_date,\n",
    "       is_current\n",
    "   )\n",
    "   VALUES (\n",
    "       source.Patient_Key,\n",
    "       source.SRC_PatientID,\n",
    "       source.FirstName,\n",
    "       source.LastName,\n",
    "       source.MiddleName,\n",
    "       source.SSN,\n",
    "       source.PhoneNumber,\n",
    "       source.Gender,\n",
    "       source.DOB,\n",
    "       source.Address,\n",
    "       source.SRC_ModifiedDate,\n",
    "       source.datasource,\n",
    "       source.is_quarantined,\n",
    "       current_timestamp(), -- Set inserted_date to current timestamp\n",
    "       current_timestamp(), -- Set modified_date to current timestamp\n",
    "       true -- Mark as current\n",
    "   );"
   ]
  },
  {
   "cell_type": "code",
   "execution_count": 0,
   "metadata": {
    "application/vnd.databricks.v1+cell": {
     "cellMetadata": {
      "byteLimit": 2048000,
      "implicitDf": true,
      "rowLimit": 10000
     },
     "inputWidgets": {},
     "nuid": "31453451-4eeb-495f-9862-44745d39991f",
     "showTitle": false,
     "tableResultSettingsMap": {},
     "title": ""
    }
   },
   "outputs": [],
   "source": [
    "   %sql\n",
    "   select count(*),Patient_Key from silver.patients\n",
    "   group by patient_key\n",
    "   order by 1 desc\n"
   ]
  }
 ],
 "metadata": {
  "application/vnd.databricks.v1+notebook": {
   "computePreferences": null,
   "dashboards": [],
   "environmentMetadata": {
    "base_environment": "",
    "client": "1"
   },
   "language": "python",
   "notebookMetadata": {
    "mostRecentlyExecutedCommandWithImplicitDF": {
     "commandId": 6309753054038554,
     "dataframes": [
      "_sqldf"
     ]
    },
    "pythonIndentUnit": 4
   },
   "notebookName": "patients",
   "widgets": {}
  },
  "language_info": {
   "name": "python"
  }
 },
 "nbformat": 4,
 "nbformat_minor": 0
}
