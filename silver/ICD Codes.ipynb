{
 "cells": [
  {
   "cell_type": "code",
   "execution_count": 0,
   "metadata": {
    "application/vnd.databricks.v1+cell": {
     "cellMetadata": {
      "byteLimit": 2048000,
      "rowLimit": 10000
     },
     "inputWidgets": {},
     "nuid": "b3bdd807-bbea-45c5-baad-b1a5c1d23819",
     "showTitle": false,
     "tableResultSettingsMap": {},
     "title": ""
    }
   },
   "outputs": [],
   "source": [
    "#Read ICD extracts from bronze layer\n",
    "df=spark.read.format(\"parquet\").load(\"/mnt/bronze/icd_codes/\")\n",
    "\n",
    "df.createOrReplaceTempView(\"staging_icd_codes\")"
   ]
  },
  {
   "cell_type": "code",
   "execution_count": 0,
   "metadata": {
    "application/vnd.databricks.v1+cell": {
     "cellMetadata": {
      "byteLimit": 2048000,
      "implicitDf": true,
      "rowLimit": 10000
     },
     "inputWidgets": {},
     "nuid": "8af704ab-a816-4ba8-9ab3-792137e24bcc",
     "showTitle": false,
     "tableResultSettingsMap": {},
     "title": ""
    }
   },
   "outputs": [],
   "source": [
    "%sql\n",
    "CREATE TABLE IF NOT EXISTS silver.icd_codes (\n",
    "    icd_code STRING,\n",
    "    icd_code_type STRING,\n",
    "    code_description STRING,\n",
    "    inserted_date DATE,\n",
    "    updated_date DATE,\n",
    "    is_current_flag BOOLEAN\n",
    ")"
   ]
  },
  {
   "cell_type": "code",
   "execution_count": 0,
   "metadata": {
    "application/vnd.databricks.v1+cell": {
     "cellMetadata": {
      "byteLimit": 2048000,
      "implicitDf": true,
      "rowLimit": 10000
     },
     "inputWidgets": {},
     "nuid": "cbac19e6-b50e-4825-a1de-8a223fae48a8",
     "showTitle": false,
     "tableResultSettingsMap": {},
     "title": ""
    }
   },
   "outputs": [],
   "source": [
    "\n",
    "%sql\n",
    "MERGE INTO\n",
    "  silver.icd_codes AS target\n",
    "USING\n",
    "  staging_icd_codes AS source\n",
    "ON target.icd_code = source.icd_code\n",
    "WHEN MATCHED AND\n",
    "  target.code_description != source.code_description\n",
    "  THEN UPDATE SET\n",
    "  target.code_description = source.code_description,\n",
    "  target.updated_date = source.updated_date,\n",
    "  target.is_current_flag = False\n",
    "WHEN NOT MATCHED THEN INSERT (\n",
    "    icd_code, icd_code_type, code_description, inserted_date, updated_date, is_current_flag\n",
    "  )\n",
    "  VALUES (\n",
    "    source.icd_code,\n",
    "    source.icd_code_type,\n",
    "    source.code_description,\n",
    "    source.inserted_date,\n",
    "    source.updated_date,\n",
    "    source.is_current_flag\n",
    "  )"
   ]
  }
 ],
 "metadata": {
  "application/vnd.databricks.v1+notebook": {
   "computePreferences": null,
   "dashboards": [],
   "environmentMetadata": {
    "base_environment": "",
    "client": "1"
   },
   "language": "python",
   "notebookMetadata": {
    "mostRecentlyExecutedCommandWithImplicitDF": {
     "commandId": 5699581996422383,
     "dataframes": [
      "_sqldf"
     ]
    },
    "pythonIndentUnit": 4
   },
   "notebookName": "ICD Codes",
   "widgets": {}
  },
  "language_info": {
   "name": "python"
  }
 },
 "nbformat": 4,
 "nbformat_minor": 0
}
