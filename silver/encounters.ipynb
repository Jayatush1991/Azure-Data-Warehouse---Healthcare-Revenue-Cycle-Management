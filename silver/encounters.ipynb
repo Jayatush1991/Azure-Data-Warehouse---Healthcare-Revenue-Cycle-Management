{
 "cells": [
  {
   "cell_type": "code",
   "execution_count": 0,
   "metadata": {
    "application/vnd.databricks.v1+cell": {
     "cellMetadata": {
      "byteLimit": 2048000,
      "implicitDf": true,
      "rowLimit": 10000
     },
     "inputWidgets": {},
     "nuid": "4bbbe4d1-ed00-4ba7-a9b0-ec5daed6fc32",
     "showTitle": false,
     "tableResultSettingsMap": {},
     "title": ""
    }
   },
   "outputs": [],
   "source": [
    "%sql\n",
    "-- Create temporary views for the parquet files\n",
    "CREATE OR REPLACE TEMP VIEW hosa_encounters\n",
    "USING parquet\n",
    "OPTIONS (\n",
    "  path \"dbfs:/mnt/bronze/hosa/encounters\"\n",
    ");\n",
    "\n",
    "CREATE OR REPLACE TEMP VIEW hosb_encounters\n",
    "USING parquet\n",
    "OPTIONS (\n",
    "  path \"dbfs:/mnt/bronze/hosb/encounters\"\n",
    ");"
   ]
  },
  {
   "cell_type": "code",
   "execution_count": 0,
   "metadata": {
    "application/vnd.databricks.v1+cell": {
     "cellMetadata": {
      "byteLimit": 2048000,
      "implicitDf": true,
      "rowLimit": 10000
     },
     "inputWidgets": {},
     "nuid": "f3bd8949-6658-40e9-a7ce-37084ee12105",
     "showTitle": false,
     "tableResultSettingsMap": {},
     "title": ""
    }
   },
   "outputs": [],
   "source": [
    "  %sql\n",
    "  --Union the two views\n",
    "  CREATE OR REPLACE TEMP VIEW encounters AS\n",
    "  SELECT * FROM hosa_encounters\n",
    "  UNION ALL\n",
    "  SELECT * FROM hosb_encounters;\n",
    "  \n",
    "  -- Display the merged data\n",
    "  --SELECT count(*) FROM encounters;"
   ]
  },
  {
   "cell_type": "code",
   "execution_count": 0,
   "metadata": {
    "application/vnd.databricks.v1+cell": {
     "cellMetadata": {
      "byteLimit": 2048000,
      "implicitDf": true,
      "rowLimit": 10000
     },
     "inputWidgets": {},
     "nuid": "4b95c552-8198-4891-988e-c6795100b667",
     "showTitle": false,
     "tableResultSettingsMap": {},
     "title": ""
    }
   },
   "outputs": [],
   "source": [
    "%sql\n",
    "CREATE OR REPLACE TEMP VIEW quality_checks AS\n",
    "SELECT \n",
    "concat(EncounterID,'-',datasource) as EncounterID,\n",
    "  EncounterID SRC_EncounterID,\n",
    "   PatientID,\n",
    "   EncounterDate,\n",
    "   EncounterType,\n",
    "   ProviderID,\n",
    "   DepartmentID,\n",
    "   ProcedureCode,\n",
    "   InsertedDate as SRC_InsertedDate,\n",
    "   ModifiedDate as SRC_ModifiedDate,\n",
    "   datasource,\n",
    "       CASE \n",
    "           WHEN EncounterID IS NULL OR PatientID IS NULL THEN TRUE\n",
    "           ELSE FALSE\n",
    "       END AS is_quarantined\n",
    "   FROM encounters"
   ]
  },
  {
   "cell_type": "code",
   "execution_count": 0,
   "metadata": {
    "application/vnd.databricks.v1+cell": {
     "cellMetadata": {
      "byteLimit": 2048000,
      "implicitDf": true,
      "rowLimit": 10000
     },
     "inputWidgets": {},
     "nuid": "08fcdd9e-3bb0-4c9c-8c53-ddc8af2a8159",
     "showTitle": false,
     "tableResultSettingsMap": {},
     "title": ""
    }
   },
   "outputs": [],
   "source": [
    "\n",
    "\n",
    "%sql\n",
    "select * from quality_checks\n",
    "where datasource='hos-b'"
   ]
  },
  {
   "cell_type": "code",
   "execution_count": 0,
   "metadata": {
    "application/vnd.databricks.v1+cell": {
     "cellMetadata": {
      "byteLimit": 2048000,
      "implicitDf": true,
      "rowLimit": 10000
     },
     "inputWidgets": {},
     "nuid": "2ed0ba23-ac2b-473a-8f59-2b02128b5639",
     "showTitle": false,
     "tableResultSettingsMap": {},
     "title": ""
    }
   },
   "outputs": [],
   "source": [
    "%sql\n",
    "   CREATE TABLE IF NOT EXISTS silver.encounters (\n",
    "   EncounterID string,\n",
    "   SRC_EncounterID string,\n",
    "   PatientID string,\n",
    "   EncounterDate date,\n",
    "   EncounterType string,\n",
    "   ProviderID string,\n",
    "   DepartmentID string,\n",
    "   ProcedureCode integer,\n",
    "   SRC_InsertedDate date,\n",
    "   SRC_ModifiedDate date,\n",
    "   datasource string,\n",
    "   is_quarantined boolean,\n",
    "   audit_insertdate timestamp,\n",
    "   audit_modifieddate timestamp,\n",
    "   is_current boolean\n",
    "   )\n",
    "   USING DELTA;"
   ]
  },
  {
   "cell_type": "code",
   "execution_count": 0,
   "metadata": {
    "application/vnd.databricks.v1+cell": {
     "cellMetadata": {
      "byteLimit": 2048000,
      "implicitDf": true,
      "rowLimit": 10000
     },
     "inputWidgets": {},
     "nuid": "c0ae3816-d861-445a-bd9d-5c6580575eed",
     "showTitle": false,
     "tableResultSettingsMap": {},
     "title": ""
    }
   },
   "outputs": [],
   "source": [
    "%sql\n",
    "   -- Update old record to implement SCD Type 2\n",
    "   MERGE INTO silver.encounters AS target\n",
    "   USING quality_checks AS source\n",
    "   ON target.EncounterID = source.EncounterID AND target.is_current = true\n",
    "   WHEN MATCHED AND (\n",
    "       target.SRC_EncounterID != source.SRC_EncounterID OR\n",
    "       target.PatientID != source.PatientID OR\n",
    "       target.EncounterDate != source.EncounterDate OR\n",
    "       target.EncounterType != source.EncounterType OR\n",
    "       target.ProviderID != source.ProviderID OR\n",
    "       target.DepartmentID != source.DepartmentID OR\n",
    "       target.ProcedureCode != source.ProcedureCode OR\n",
    "       target.SRC_InsertedDate != source.SRC_InsertedDate OR\n",
    "       target.SRC_ModifiedDate != source.SRC_ModifiedDate OR\n",
    "       target.datasource != source.datasource OR\n",
    "       target.is_quarantined != source.is_quarantined\n",
    "   ) THEN\n",
    "     UPDATE SET\n",
    "       target.is_current = false,\n",
    "       target.audit_modifieddate = current_timestamp()"
   ]
  },
  {
   "cell_type": "code",
   "execution_count": 0,
   "metadata": {
    "application/vnd.databricks.v1+cell": {
     "cellMetadata": {
      "byteLimit": 2048000,
      "implicitDf": true,
      "rowLimit": 10000
     },
     "inputWidgets": {},
     "nuid": "50914e5c-649e-44a1-82d4-e708d57dc094",
     "showTitle": false,
     "tableResultSettingsMap": {},
     "title": ""
    }
   },
   "outputs": [],
   "source": [
    "%sql\n",
    "   -- Insert new record to implement SCD Type 2\n",
    "   MERGE INTO silver.encounters AS target USING quality_checks AS source ON target.EncounterID = source.EncounterID\n",
    "   AND target.is_current = true\n",
    "   WHEN NOT MATCHED THEN\n",
    "   INSERT\n",
    "     (\n",
    "       EncounterID,\n",
    "       SRC_EncounterID,\n",
    "       PatientID,\n",
    "       EncounterDate,\n",
    "       EncounterType,\n",
    "       ProviderID,\n",
    "       DepartmentID,\n",
    "       ProcedureCode,\n",
    "       SRC_InsertedDate,\n",
    "       SRC_ModifiedDate,\n",
    "       datasource,\n",
    "       is_quarantined,\n",
    "       audit_insertdate,\n",
    "       audit_modifieddate,\n",
    "       is_current\n",
    "     )\n",
    "   VALUES\n",
    "     (\n",
    "       source.EncounterID,\n",
    "       source.SRC_EncounterID,\n",
    "       source.PatientID,\n",
    "       source.EncounterDate,\n",
    "       source.EncounterType,\n",
    "       source.ProviderID,\n",
    "       source.DepartmentID,\n",
    "       source.ProcedureCode,\n",
    "       source.SRC_InsertedDate,\n",
    "       source.SRC_ModifiedDate,\n",
    "       source.datasource,\n",
    "       source.is_quarantined,\n",
    "       current_timestamp(),\n",
    "       current_timestamp(),\n",
    "       true\n",
    "     );\n"
   ]
  },
  {
   "cell_type": "code",
   "execution_count": 0,
   "metadata": {
    "application/vnd.databricks.v1+cell": {
     "cellMetadata": {
      "byteLimit": 2048000,
      "implicitDf": true,
      "rowLimit": 10000
     },
     "inputWidgets": {},
     "nuid": "2d10c9c8-2a74-428e-bee2-89eddcdf576c",
     "showTitle": false,
     "tableResultSettingsMap": {},
     "title": ""
    }
   },
   "outputs": [],
   "source": [
    "%sql\n",
    "   select SRC_EncounterID,datasource,count(patientid) from  silver.encounters\n",
    "   group by all\n",
    "   order by 3 desc"
   ]
  }
 ],
 "metadata": {
  "application/vnd.databricks.v1+notebook": {
   "computePreferences": null,
   "dashboards": [],
   "environmentMetadata": {
    "base_environment": "",
    "client": "1"
   },
   "language": "python",
   "notebookMetadata": {
    "mostRecentlyExecutedCommandWithImplicitDF": {
     "commandId": 6309753054038569,
     "dataframes": [
      "_sqldf"
     ]
    },
    "pythonIndentUnit": 4
   },
   "notebookName": "encounters",
   "widgets": {}
  },
  "language_info": {
   "name": "python"
  }
 },
 "nbformat": 4,
 "nbformat_minor": 0
}
