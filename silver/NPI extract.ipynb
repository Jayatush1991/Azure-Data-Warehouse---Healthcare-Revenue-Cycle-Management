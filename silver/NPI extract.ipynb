{
 "cells": [
  {
   "cell_type": "code",
   "execution_count": 0,
   "metadata": {
    "application/vnd.databricks.v1+cell": {
     "cellMetadata": {
      "byteLimit": 2048000,
      "rowLimit": 10000
     },
     "inputWidgets": {},
     "nuid": "0ba13d26-fcaa-456c-a0a2-797d496eabec",
     "showTitle": false,
     "tableResultSettingsMap": {},
     "title": ""
    }
   },
   "outputs": [],
   "source": [
    "df=spark.read.parquet(\"/mnt/bronze/npi_extract\")\n",
    "df.createOrReplaceTempView('npi_extract')"
   ]
  },
  {
   "cell_type": "code",
   "execution_count": 0,
   "metadata": {
    "application/vnd.databricks.v1+cell": {
     "cellMetadata": {
      "byteLimit": 2048000,
      "implicitDf": true,
      "rowLimit": 10000
     },
     "inputWidgets": {},
     "nuid": "0ccf3ba1-1a9d-408e-93bf-696e28461c99",
     "showTitle": false,
     "tableResultSettingsMap": {},
     "title": ""
    }
   },
   "outputs": [],
   "source": [
    "%sql\n",
    "CREATE TABLE IF NOT EXISTS silver.npi_extract (\n",
    "  npi_id STRING,\n",
    "  first_name STRING,\n",
    "  last_name STRING,\n",
    "  position STRING,\n",
    "  organisation_name STRING,\n",
    "  last_updated STRING,\n",
    "  inserted_date DATE,\n",
    "  updated_date DATE,\n",
    "  is_current_flag BOOLEAN\n",
    ")"
   ]
  },
  {
   "cell_type": "code",
   "execution_count": 0,
   "metadata": {
    "application/vnd.databricks.v1+cell": {
     "cellMetadata": {
      "byteLimit": 2048000,
      "implicitDf": true,
      "rowLimit": 10000
     },
     "inputWidgets": {},
     "nuid": "2d4cc0f9-cc99-487e-b520-3e3e04f282a3",
     "showTitle": false,
     "tableResultSettingsMap": {},
     "title": ""
    }
   },
   "outputs": [],
   "source": [
    "%sql\n",
    "MERGE INTO\n",
    "  silver.npi_extract AS target\n",
    "USING\n",
    "  npi_extract AS source\n",
    "ON target.npi_id = source.npi_id and target.is_current_flag = true\n",
    "WHEN MATCHED AND\n",
    "  target.first_name != source.first_name OR\n",
    "  target.last_name != source.last_name OR\n",
    "  target.position != source.position OR\n",
    "  target.organisation_name != source.organisation_name OR\n",
    "  target.last_updated != source.last_updated\n",
    "  THEN UPDATE SET\n",
    "  target.updated_date = current_date,\n",
    "  target.is_current_flag = False\n"
   ]
  },
  {
   "cell_type": "code",
   "execution_count": 0,
   "metadata": {
    "application/vnd.databricks.v1+cell": {
     "cellMetadata": {
      "byteLimit": 2048000,
      "implicitDf": true,
      "rowLimit": 10000
     },
     "inputWidgets": {},
     "nuid": "eebbef45-d4fc-4088-82d5-d8245e848796",
     "showTitle": false,
     "tableResultSettingsMap": {},
     "title": ""
    }
   },
   "outputs": [],
   "source": [
    "\n",
    "%sql\n",
    "MERGE INTO\n",
    "  silver.npi_extract AS target\n",
    "USING\n",
    "  npi_extract AS source\n",
    "ON target.npi_id = source.npi_id and target.is_current_flag = true\n",
    "WHEN NOT MATCHED THEN INSERT (\n",
    "   npi_id,\n",
    "  first_name ,\n",
    "  last_name ,\n",
    "  position ,\n",
    "  organisation_name ,\n",
    "  last_updated ,\n",
    "  inserted_date ,\n",
    "  updated_date ,\n",
    "  is_current_flag \n",
    ")\n",
    "  VALUES (\n",
    "    source.npi_id,\n",
    "  source.first_name ,\n",
    "  source.last_name ,\n",
    "  source.position ,\n",
    "  source.organisation_name ,\n",
    "  source.last_updated ,\n",
    "  current_date,\n",
    "  current_date, \n",
    "  true\n",
    "  )\n"
   ]
  },
  {
   "cell_type": "code",
   "execution_count": 0,
   "metadata": {
    "application/vnd.databricks.v1+cell": {
     "cellMetadata": {
      "byteLimit": 2048000,
      "implicitDf": true,
      "rowLimit": 10000
     },
     "inputWidgets": {},
     "nuid": "6cbf38d4-1d7e-4bf2-9ced-75c2866130f6",
     "showTitle": false,
     "tableResultSettingsMap": {},
     "title": ""
    }
   },
   "outputs": [],
   "source": [
    "\n",
    "%sql\n",
    "select * from silver.npi_extract"
   ]
  }
 ],
 "metadata": {
  "application/vnd.databricks.v1+notebook": {
   "computePreferences": null,
   "dashboards": [],
   "environmentMetadata": {
    "base_environment": "",
    "client": "1"
   },
   "language": "python",
   "notebookMetadata": {
    "mostRecentlyExecutedCommandWithImplicitDF": {
     "commandId": 5699581996422393,
     "dataframes": [
      "_sqldf"
     ]
    },
    "pythonIndentUnit": 4
   },
   "notebookName": "NPI extract",
   "widgets": {}
  },
  "language_info": {
   "name": "python"
  }
 },
 "nbformat": 4,
 "nbformat_minor": 0
}
